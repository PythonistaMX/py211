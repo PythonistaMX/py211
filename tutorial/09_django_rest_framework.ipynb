{
 "cells": [
  {
   "cell_type": "markdown",
   "metadata": {},
   "source": [
    "<a href=\"https://pythonista.io\"> <img src=\"img/pythonista.png\"></a>"
   ]
  },
  {
   "cell_type": "markdown",
   "metadata": {},
   "source": [
    "# Django REST Framework.\n",
    "\n",
    "https://www.django-rest-framework.org/"
   ]
  },
  {
   "cell_type": "code",
   "execution_count": 1,
   "metadata": {},
   "outputs": [
    {
     "name": "stdout",
     "output_type": "stream",
     "text": [
      "Collecting djangorestframework\n",
      "  Downloading djangorestframework-3.11.0-py3-none-any.whl (911 kB)\n",
      "\u001b[K     |████████████████████████████████| 911 kB 594 kB/s eta 0:00:01\n",
      "\u001b[?25hRequirement already satisfied: django>=1.11 in /home/oi/pythonista/lib/python3.8/site-packages (from djangorestframework) (3.0.6)\n",
      "Requirement already satisfied: sqlparse>=0.2.2 in /home/oi/pythonista/lib/python3.8/site-packages (from django>=1.11->djangorestframework) (0.3.1)\n",
      "Requirement already satisfied: pytz in /home/oi/pythonista/lib/python3.8/site-packages (from django>=1.11->djangorestframework) (2020.1)\n",
      "Requirement already satisfied: asgiref~=3.2 in /home/oi/pythonista/lib/python3.8/site-packages (from django>=1.11->djangorestframework) (3.2.7)\n",
      "Installing collected packages: djangorestframework\n",
      "Successfully installed djangorestframework-3.11.0\n",
      "\u001b[33mWARNING: You are using pip version 20.1; however, version 20.1.1 is available.\n",
      "You should consider upgrading via the '/home/oi/pythonista/bin/python -m pip install --upgrade pip' command.\u001b[0m\n"
     ]
    }
   ],
   "source": [
    "!pip install djangorestframework "
   ]
  },
  {
   "cell_type": "markdown",
   "metadata": {},
   "source": [
    "<p style=\"text-align: center\"><a rel=\"license\" href=\"http://creativecommons.org/licenses/by/4.0/\"><img alt=\"Licencia Creative Commons\" style=\"border-width:0\" src=\"https://i.creativecommons.org/l/by/4.0/80x15.png\" /></a><br />Esta obra está bajo una <a rel=\"license\" href=\"http://creativecommons.org/licenses/by/4.0/\">Licencia Creative Commons Atribución 4.0 Internacional</a>.</p>\n",
    "<p style=\"text-align: center\">&copy; José Luis Chiquete Valdivieso. 2020.</p>"
   ]
  }
 ],
 "metadata": {
  "kernelspec": {
   "display_name": "Django Shell-Plus",
   "language": "python",
   "name": "django_extensions"
  },
  "language_info": {
   "codemirror_mode": {
    "name": "ipython",
    "version": 3
   },
   "file_extension": ".py",
   "mimetype": "text/x-python",
   "name": "python",
   "nbconvert_exporter": "python",
   "pygments_lexer": "ipython3",
   "version": "3.8.2"
  }
 },
 "nbformat": 4,
 "nbformat_minor": 2
}
